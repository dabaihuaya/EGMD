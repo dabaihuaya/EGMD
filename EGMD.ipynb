{
 "cells": [
  {
   "cell_type": "code",
   "execution_count": 1,
   "id": "76148cf4",
   "metadata": {},
   "outputs": [
    {
     "name": "stdout",
     "output_type": "stream",
     "text": [
      "WARNING:tensorflow:From D:\\anaconda3\\envs\\py39\\lib\\site-packages\\keras\\src\\losses.py:2976: The name tf.losses.sparse_softmax_cross_entropy is deprecated. Please use tf.compat.v1.losses.sparse_softmax_cross_entropy instead.\n",
      "\n",
      "WARNING:tensorflow:From D:\\anaconda3\\envs\\py39\\lib\\site-packages\\tensorflow_probability\\python\\internal\\backend\\numpy\\_utils.py:48: The name tf.logging.TaskLevelStatusMessage is deprecated. Please use tf.compat.v1.logging.TaskLevelStatusMessage instead.\n",
      "\n",
      "WARNING:tensorflow:From D:\\anaconda3\\envs\\py39\\lib\\site-packages\\tensorflow_probability\\python\\internal\\backend\\numpy\\_utils.py:48: The name tf.control_flow_v2_enabled is deprecated. Please use tf.compat.v1.control_flow_v2_enabled instead.\n",
      "\n"
     ]
    },
    {
     "name": "stderr",
     "output_type": "stream",
     "text": [
      "\r",
      "  0%|                                                                                           | 0/10 [00:00<?, ?it/s]"
     ]
    },
    {
     "name": "stdout",
     "output_type": "stream",
     "text": [
      "0.973415603592514\n"
     ]
    },
    {
     "name": "stderr",
     "output_type": "stream",
     "text": [
      "\r",
      " 10%|████████▎                                                                          | 1/10 [00:07<01:09,  7.68s/it]"
     ]
    },
    {
     "name": "stdout",
     "output_type": "stream",
     "text": [
      "0.9754766701233278\n"
     ]
    },
    {
     "name": "stderr",
     "output_type": "stream",
     "text": [
      "\r",
      " 20%|████████████████▌                                                                  | 2/10 [00:15<01:00,  7.62s/it]"
     ]
    },
    {
     "name": "stdout",
     "output_type": "stream",
     "text": [
      "0.9719829425409822\n"
     ]
    },
    {
     "name": "stderr",
     "output_type": "stream",
     "text": [
      "\r",
      " 30%|████████████████████████▉                                                          | 3/10 [00:22<00:53,  7.60s/it]"
     ]
    },
    {
     "name": "stdout",
     "output_type": "stream",
     "text": [
      "0.975298233999581\n"
     ]
    },
    {
     "name": "stderr",
     "output_type": "stream",
     "text": [
      "\r",
      " 40%|█████████████████████████████████▏                                                 | 4/10 [00:30<00:45,  7.57s/it]"
     ]
    },
    {
     "name": "stdout",
     "output_type": "stream",
     "text": [
      "WARNING:tensorflow:5 out of the last 5 calls to <function ESGP.<locals>.optimization_step at 0x000001EA8332ADC0> triggered tf.function retracing. Tracing is expensive and the excessive number of tracings could be due to (1) creating @tf.function repeatedly in a loop, (2) passing tensors with different shapes, (3) passing Python objects instead of tensors. For (1), please define your @tf.function outside of the loop. For (2), @tf.function has reduce_retracing=True option that can avoid unnecessary retracing. For (3), please refer to https://www.tensorflow.org/guide/function#controlling_retracing and https://www.tensorflow.org/api_docs/python/tf/function for  more details.\n",
      "0.9743414026113739\n"
     ]
    },
    {
     "name": "stderr",
     "output_type": "stream",
     "text": [
      "\r",
      " 50%|█████████████████████████████████████████▌                                         | 5/10 [00:38<00:38,  7.61s/it]"
     ]
    },
    {
     "name": "stdout",
     "output_type": "stream",
     "text": [
      "WARNING:tensorflow:6 out of the last 6 calls to <function ESGP.<locals>.optimization_step at 0x000001EA8332AE50> triggered tf.function retracing. Tracing is expensive and the excessive number of tracings could be due to (1) creating @tf.function repeatedly in a loop, (2) passing tensors with different shapes, (3) passing Python objects instead of tensors. For (1), please define your @tf.function outside of the loop. For (2), @tf.function has reduce_retracing=True option that can avoid unnecessary retracing. For (3), please refer to https://www.tensorflow.org/guide/function#controlling_retracing and https://www.tensorflow.org/api_docs/python/tf/function for  more details.\n",
      "0.9722363735573181\n"
     ]
    },
    {
     "name": "stderr",
     "output_type": "stream",
     "text": [
      "\r",
      " 60%|█████████████████████████████████████████████████▊                                 | 6/10 [00:45<00:30,  7.58s/it]"
     ]
    },
    {
     "name": "stdout",
     "output_type": "stream",
     "text": [
      "0.973707825070534\n"
     ]
    },
    {
     "name": "stderr",
     "output_type": "stream",
     "text": [
      "\r",
      " 70%|██████████████████████████████████████████████████████████                         | 7/10 [00:53<00:22,  7.60s/it]"
     ]
    },
    {
     "name": "stdout",
     "output_type": "stream",
     "text": [
      "0.9725285950353381\n"
     ]
    },
    {
     "name": "stderr",
     "output_type": "stream",
     "text": [
      "\r",
      " 80%|██████████████████████████████████████████████████████████████████▍                | 8/10 [01:00<00:15,  7.53s/it]"
     ]
    },
    {
     "name": "stdout",
     "output_type": "stream",
     "text": [
      "0.9729811504216523\n"
     ]
    },
    {
     "name": "stderr",
     "output_type": "stream",
     "text": [
      "\r",
      " 90%|██████████████████████████████████████████████████████████████████████████▋        | 9/10 [01:07<00:07,  7.49s/it]"
     ]
    },
    {
     "name": "stdout",
     "output_type": "stream",
     "text": [
      "0.9731233821144939\n"
     ]
    },
    {
     "name": "stderr",
     "output_type": "stream",
     "text": [
      "100%|██████████████████████████████████████████████████████████████████████████████████| 10/10 [01:15<00:00,  7.54s/it]"
     ]
    },
    {
     "name": "stdout",
     "output_type": "stream",
     "text": [
      "per_class\n",
      "c1. 97.65±0.91\n",
      "c2. 72.65±2.58\n",
      "c3. 94.65±0.65\n",
      "c4. 99.75±0.07\n",
      "c5. 98.86±0.83\n",
      "c6. 98.60±0.34\n",
      "c7. 95.77±0.47\n",
      "c8. 98.73±1.26\n",
      "c9. 96.08±1.05\n",
      "c10. 95.84±1.22\n",
      "c11. 93.21±1.76\n",
      "c12. 94.38±1.70\n",
      "c13. 96.12±0.73\n",
      "c14. 92.87±1.63\n",
      "c15. 80.41±6.61\n",
      "c16. 96.01±0.79\n",
      "c17. 94.22±1.84\n",
      "c18. 88.63±3.23\n",
      "c19. 90.85±1.34\n",
      "c20. 95.01±2.38\n",
      "c21. 95.03±3.46\n",
      "c22. 98.26±0.81\n",
      "\n",
      "OA：97.35±0.11\n",
      "AA：93.80±0.35\n",
      "kappa：96.65±0.14\n",
      "time：7.54±0.10\n",
      "iterables：0.00±0.00\n"
     ]
    },
    {
     "name": "stderr",
     "output_type": "stream",
     "text": [
      "\n"
     ]
    }
   ],
   "source": [
    "# -*- coding: utf-8 -*-\n",
    "\"\"\"\n",
    "Created on 2025.01.01\n",
    "\n",
    "@author: Yaqiu Zhang\n",
    "\"\"\"\n",
    "import time\n",
    "import numpy as np\n",
    "from get_data import get_data\n",
    "from random_samples import random_samples_and_remaining\n",
    "from ESGP import ESGP\n",
    "from RMRF import RMRF\n",
    "from tqdm import tqdm\n",
    "from sklearn.model_selection import train_test_split\n",
    "\n",
    "def get_samples(choose_name, train_size, random_nu):\n",
    "    \n",
    "    if choose_name == 'every_num':\n",
    "        x_train, y_train, x_ind, x_test, y_test, y_ind, random_indices_log = random_samples_and_remaining(img, img_gt_lab, img_gt_ind, num_samples=175)\n",
    "    \n",
    "    elif choose_name == 'every_per':\n",
    "        x_train, x_test, y_train, y_test, x_ind, y_ind = train_test_split(img, img_gt[1, :], img_gt[0, :], train_size=train_size,stratify=img_gt[1, :],random_state=random_nu,)  # random_state=50,\n",
    "    return x_train, x_test, y_train, y_test, x_ind, y_ind\n",
    "\n",
    "img_w, img_h, img_b, img, img_gt, all_img ,img_gt_ind, img_gt_lab,num_class = get_data(dataset_name='whu_hh')\n",
    "[gpq,qq,qq_kappa,iterables,per_class,img_plot ,timee] = [[] for _ in range(7)]\n",
    "random_state1 = [202501,202502,202303,202504,202505,202506,202507,202508,202509,202510]\n",
    "for w in tqdm(range(len(random_state1))):\n",
    "    t_start = time.time()\n",
    "    x_train, x_test, y_train, y_test, x_ind, y_ind = get_samples(choose_name='every_per', train_size=0.01, random_nu=random_state1[w])\n",
    "    result_matrix1,oa,precision_per_class1 =ESGP(x_train,y_train,all_img,img_gt_lab,img_gt_ind,x_ind,num_class)\n",
    "    gdmrf_result,look_plt,kappa_score2,j,precision_per_class,img_plot1 = RMRF(result_matrix1,x_ind,y_ind,y_test, y_train,num_class,img_w,img_h,img_gt_ind, img_gt_lab,img_gt)\n",
    "    qq.append(max(gdmrf_result))\n",
    "    qq_kappa.append(kappa_score2)\n",
    "    gpq.append(oa*100)\n",
    "    iterables.append(j)\n",
    "    per_class.append(precision_per_class)\n",
    "    img_plot.append(img_plot1)\n",
    "    timee.append(time.time()- t_start)\n",
    "array_per_class = np.array(per_class)\n",
    "per_class_means = [np.mean(item) for item in per_class]\n",
    "\n",
    "print(f\"per_class\")\n",
    "per_class_mean = np.mean(array_per_class, axis=0)\n",
    "per_class_std = np.std(array_per_class, axis=0)\n",
    "for i, (mean_value, std_value) in enumerate(zip(per_class_mean, per_class_std)):\n",
    "    print(\"c{:d}. {:.2f}\\u00B1{:.2f}\".format(i+1, mean_value, std_value))\n",
    "print(f\"\\nOA：{np.mean(qq):.2f}\\u00B1{np.std(qq):.2f}\")\n",
    "print(f\"AA：{np.mean(per_class_means):.2f}\\u00B1{np.std(per_class_means):.2f}\")\n",
    "print(f\"kappa：{np.mean(qq_kappa) * 100:.2f}\\u00B1{np.std(qq_kappa) * 100:.2f}\")\n",
    "print(f\"time：{np.mean(timee):.2f}\\u00B1{np.std(timee):.2f}\")\n",
    "print(f\"iterables：{np.mean(iterables):.2f}\\u00B1{np.std(iterables):.2f}\")"
   ]
  },
  {
   "cell_type": "code",
   "execution_count": 2,
   "id": "6bbb4e33",
   "metadata": {},
   "outputs": [
    {
     "name": "stdout",
     "output_type": "stream",
     "text": [
      "EGMD classification image\n"
     ]
    },
    {
     "data": {
      "image/png": "[encoded data removed]",
      "text/plain": [
       "<Figure size 1500x500 with 2 Axes>"
      ]
     },
     "metadata": {},
     "output_type": "display_data"
    }
   ],
   "source": [
    "import matplotlib.pyplot as plt\n",
    "from matplotlib.colors import ListedColormap\n",
    "colors = [\n",
    "        '#FFFFFF', '#56c947', '#625bf5', '#a2e8fa', '#faf18e', \n",
    "        '#345b91', '#eb73c7', '#498c64', '#917a49', '#6cf5b5', \n",
    "        '#9f92f0', '#8a3b4e', '#8aa64b', '#863596', '#f5b99f', \n",
    "        '#4497b8', '#368535', '#714b80', '#d760f7', '#bf8090', \n",
    "        '#bef05b', '#cca049', '#cd6666']\n",
    "cmap = ListedColormap(colors)\n",
    "plt.figure(figsize=(15, 5))\n",
    "    \n",
    "\n",
    "    \n",
    "# 绘制 EGMD \n",
    "print('EGMD classification image')\n",
    "plt.imshow(img_plot1, cmap=cmap)\n",
    "plt.title('G-MDRF Classification')\n",
    "plt.axis('off')\n",
    "plt.colorbar(ticks=range(len(colors)),)\n",
    "plt.tight_layout()\n",
    "plt.show()\n"
   ]
  },
  {
   "cell_type": "code",
   "execution_count": null,
   "id": "9fe8d292",
   "metadata": {},
   "outputs": [],
   "source": []
  }
 ],
 "metadata": {
  "kernelspec": {
   "display_name": "py39",
   "language": "python",
   "name": "py39"
  },
  "language_info": {
   "codemirror_mode": {
    "name": "ipython",
    "version": 3
   },
   "file_extension": ".py",
   "mimetype": "text/x-python",
   "name": "python",
   "nbconvert_exporter": "python",
   "pygments_lexer": "ipython3",
   "version": "3.9.18"
  }
 },
 "nbformat": 4,
 "nbformat_minor": 5
}
